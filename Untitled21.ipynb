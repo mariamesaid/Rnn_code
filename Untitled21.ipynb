{
  "nbformat": 4,
  "nbformat_minor": 0,
  "metadata": {
    "colab": {
      "provenance": [],
      "authorship_tag": "ABX9TyPKqUCUilINXwOAnY/2Hi3F",
      "include_colab_link": true
    },
    "kernelspec": {
      "name": "python3",
      "display_name": "Python 3"
    },
    "language_info": {
      "name": "python"
    }
  },
  "cells": [
    {
      "cell_type": "markdown",
      "metadata": {
        "id": "view-in-github",
        "colab_type": "text"
      },
      "source": [
        "<a href=\"https://colab.research.google.com/github/mariamesaid/Rnn_code/blob/main/Untitled21.ipynb\" target=\"_parent\"><img src=\"https://colab.research.google.com/assets/colab-badge.svg\" alt=\"Open In Colab\"/></a>"
      ]
    },
    {
      "cell_type": "code",
      "source": [
        "import torch\n",
        "import torch.nn as nn\n",
        "import torch.optim as optim\n",
        "\n",
        "sentence = \"i like playing\"\n",
        "target_word = \"football\"\n",
        "\n",
        "vocab = sorted(list(set(sentence.split() + [target_word])))\n",
        "word_to_idx = {word: idx for idx, word in enumerate(vocab)}\n",
        "idx_to_word = {idx: word for word, idx in word_to_idx.items()}\n",
        "\n",
        "vocab_size = len(vocab)\n",
        "\n",
        "input_indices = torch.tensor([[word_to_idx[word] for word in sentence.split()]], dtype=torch.long)\n",
        "target_index = torch.tensor([word_to_idx[target_word]], dtype=torch.long)\n",
        "\n",
        "class WordRNN(nn.Module):\n",
        "    def __init__(self, vocab_size, embed_size, hidden_size):\n",
        "        super(WordRNN, self).__init__()\n",
        "        self.embed = nn.Embedding(vocab_size, embed_size)\n",
        "        self.rnn = nn.RNN(embed_size, hidden_size, batch_first=True)\n",
        "        self.fc = nn.Linear(hidden_size, vocab_size)\n",
        "\n",
        "    def forward(self, x, h):\n",
        "        x = self.embed(x)\n",
        "        out, h = self.rnn(x, h)\n",
        "        out = self.fc(out[:, -1, :])\n",
        "        return out, h\n",
        "\n",
        "embed_size = 10\n",
        "hidden_size = 16\n",
        "model = WordRNN(vocab_size, embed_size, hidden_size)\n",
        "\n",
        "criterion = nn.CrossEntropyLoss()\n",
        "optimizer = optim.Adam(model.parameters(), lr=0.01)\n",
        "\n",
        "\n",
        "n_epochs = 300\n",
        "for epoch in range(n_epochs):\n",
        "    h0 = torch.zeros(1, 1, hidden_size)\n",
        "\n",
        "    output, hn = model(input_indices, h0)\n",
        "\n",
        "    loss = criterion(output, target_index)\n",
        "\n",
        "    optimizer.zero_grad()\n",
        "    loss.backward()\n",
        "\n",
        "    with torch.no_grad():\n",
        "        for param in model.parameters():\n",
        "            if param.grad is not None:\n",
        "                param -= 0.01 * param.grad\n",
        "\n",
        "    if (epoch+1) % 50 == 0:\n",
        "        pred_idx = output.argmax(dim=1).item()\n",
        "        pred_word = idx_to_word[pred_idx]\n",
        "        print(f\"Epoch {epoch+1}, Loss: {loss.item():.4f}, Prediction: '{pred_word}'\")\n",
        "\n",
        "\n",
        "model.eval()\n",
        "h0 = torch.zeros(1, 1, hidden_size)\n",
        "with torch.no_grad():\n",
        "    output, hn = model(input_indices, h0)\n",
        "    pred_idx = output.argmax(dim=1).item()\n",
        "    pred_word = idx_to_word[pred_idx]\n",
        "    print(\"\\nPredicted fourth word:\", pred_word)\n"
      ],
      "metadata": {
        "id": "s3kUmQ0tcmc_",
        "colab": {
          "base_uri": "https://localhost:8080/"
        },
        "outputId": "dc5537b3-a34d-4176-bbcb-fa755719be15"
      },
      "execution_count": 1,
      "outputs": [
        {
          "output_type": "stream",
          "name": "stdout",
          "text": [
            "Epoch 50, Loss: 0.2586, Prediction: 'football'\n",
            "Epoch 100, Loss: 0.0965, Prediction: 'football'\n",
            "Epoch 150, Loss: 0.0557, Prediction: 'football'\n",
            "Epoch 200, Loss: 0.0384, Prediction: 'football'\n",
            "Epoch 250, Loss: 0.0290, Prediction: 'football'\n",
            "Epoch 300, Loss: 0.0233, Prediction: 'football'\n",
            "\n",
            "Predicted fourth word: football\n"
          ]
        }
      ]
    },
    {
      "cell_type": "code",
      "source": [],
      "metadata": {
        "id": "Z1DVnigFGxU4"
      },
      "execution_count": null,
      "outputs": []
    }
  ]
}